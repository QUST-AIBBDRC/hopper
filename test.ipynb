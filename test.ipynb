{
 "cells": [
  {
   "cell_type": "code",
   "execution_count": 1,
   "metadata": {
    "scrolled": true
   },
   "outputs": [],
   "source": [
    "%load_ext autoreload\n",
    "%autoreload 2"
   ]
  },
  {
   "cell_type": "code",
   "execution_count": 2,
   "metadata": {},
   "outputs": [],
   "source": [
    "from treehopper.hoppers import hopper\n",
    "import treehopper.explore as e\n",
    "import numpy as np\n",
    "import matplotlib.pyplot as plt\n",
    "import scanpy as sc"
   ]
  },
  {
   "cell_type": "code",
   "execution_count": 3,
   "metadata": {},
   "outputs": [
    {
     "name": "stdout",
     "output_type": "stream",
     "text": [
      "beginning traversal!\n"
     ]
    },
    {
     "data": {
      "text/plain": [
       "[236,\n",
       " 140,\n",
       " 988,\n",
       " 98,\n",
       " 67,\n",
       " 30,\n",
       " 887,\n",
       " 638,\n",
       " 668,\n",
       " 680,\n",
       " 448,\n",
       " 495,\n",
       " 796,\n",
       " 949,\n",
       " 332,\n",
       " 155,\n",
       " 759,\n",
       " 784,\n",
       " 132,\n",
       " 289,\n",
       " 556,\n",
       " 933,\n",
       " 220,\n",
       " 463,\n",
       " 764,\n",
       " 531,\n",
       " 529,\n",
       " 68,\n",
       " 744,\n",
       " 386]"
      ]
     },
     "execution_count": 3,
     "metadata": {},
     "output_type": "execute_result"
    }
   ],
   "source": [
    "rgauss = np.random.normal(size=(1000,2))\n",
    "\n",
    "h = hopper(rgauss)\n",
    "h.hop(10)\n",
    "h.hop(20)"
   ]
  },
  {
   "cell_type": "code",
   "execution_count": 4,
   "metadata": {
    "scrolled": true
   },
   "outputs": [
    {
     "name": "stderr",
     "output_type": "stream",
     "text": [
      "Trying to set attribute `.obs` of view, making a copy.\n"
     ]
    },
    {
     "data": {
      "image/png": "[encoded data removed]",
      "text/plain": [
       "<Figure size 432x288 with 1 Axes>"
      ]
     },
     "metadata": {
      "needs_background": "light"
     },
     "output_type": "display_data"
    }
   ],
   "source": [
    "rgauss = sc.AnnData(rgauss)\n",
    "\n",
    "smaller = e.compress(rgauss, h)\n",
    "plt.scatter(smaller.X[:,0],smaller.X[:,1], c=list(smaller.obs['wt']))\n",
    "plt.show()"
   ]
  },
  {
   "cell_type": "code",
   "execution_count": 11,
   "metadata": {},
   "outputs": [
    {
     "name": "stderr",
     "output_type": "stream",
     "text": [
      "/usr/local/lib/python3.7/site-packages/umap/umap_.py:349: NumbaWarning: \n",
      "Compilation is falling back to object mode WITH looplifting enabled because Function \"fuzzy_simplicial_set\" failed type inference due to: Untyped global name 'nearest_neighbors': cannot determine Numba type of <class 'function'>\n",
      "\n",
      "File \"../../../../../usr/local/lib/python3.7/site-packages/umap/umap_.py\", line 467:\n",
      "def fuzzy_simplicial_set(\n",
      "    <source elided>\n",
      "    if knn_indices is None or knn_dists is None:\n",
      "        knn_indices, knn_dists, _ = nearest_neighbors(\n",
      "        ^\n",
      "\n",
      "  @numba.jit()\n",
      "/usr/local/lib/python3.7/site-packages/numba/compiler.py:725: NumbaWarning: Function \"fuzzy_simplicial_set\" was compiled in object mode without forceobj=True.\n",
      "\n",
      "File \"../../../../../usr/local/lib/python3.7/site-packages/umap/umap_.py\", line 350:\n",
      "@numba.jit()\n",
      "def fuzzy_simplicial_set(\n",
      "^\n",
      "\n",
      "  self.func_ir.loc))\n",
      "/usr/local/lib/python3.7/site-packages/numba/compiler.py:734: NumbaDeprecationWarning: \n",
      "Fall-back from the nopython compilation path to the object mode compilation path has been detected, this is deprecated behaviour.\n",
      "\n",
      "For more information visit http://numba.pydata.org/numba-doc/latest/reference/deprecation.html#deprecation-of-object-mode-fall-back-behaviour-when-using-jit\n",
      "\n",
      "File \"../../../../../usr/local/lib/python3.7/site-packages/umap/umap_.py\", line 350:\n",
      "@numba.jit()\n",
      "def fuzzy_simplicial_set(\n",
      "^\n",
      "\n",
      "  warnings.warn(errors.NumbaDeprecationWarning(msg, self.func_ir.loc))\n"
     ]
    }
   ],
   "source": [
    "sc.pp.neighbors(smaller)"
   ]
  },
  {
   "cell_type": "code",
   "execution_count": 14,
   "metadata": {},
   "outputs": [],
   "source": [
    "sc.tl.louvain(smaller)"
   ]
  },
  {
   "cell_type": "code",
   "execution_count": 22,
   "metadata": {
    "scrolled": true
   },
   "outputs": [],
   "source": [
    "c1=e.filter(smaller, 'louvain',['1'])"
   ]
  },
  {
   "cell_type": "code",
   "execution_count": 26,
   "metadata": {},
   "outputs": [
    {
     "name": "stdout",
     "output_type": "stream",
     "text": [
      "[98, 30, 680, 495, 759, 933, 463, 764, 68, 744]\n",
      "[887, 132, 132, 68, 531, 155, 132, 236, 784, 764, 236, 332, 132, 220, 764, 236, 556, 531, 132, 67, 132, 784, 495, 764, 764, 220, 236, 531, 132, 132, 30, 236, 988, 67, 796, 495, 495, 887, 236, 386, 386, 132, 887, 744, 332, 495, 495, 220, 531, 764, 132, 764, 67, 796, 949, 386, 68, 887, 236, 887, 132, 531, 784, 30, 448, 495, 386, 67, 68, 764, 531, 784, 132, 67, 386, 386, 236, 386, 796, 236, 529, 236, 796, 132, 132, 764, 529, 386, 764, 556, 764, 386, 386, 796, 132, 495, 764, 236, 98, 236, 386, 495, 531, 132, 132, 236, 236, 680, 386, 236, 132, 796, 638, 132, 764, 531, 764, 463, 764, 386, 132, 887, 495, 132, 448, 764, 680, 386, 887, 236, 887, 495, 132, 132, 332, 236, 448, 495, 887, 67, 140, 764, 132, 132, 495, 796, 784, 680, 236, 531, 386, 236, 495, 764, 386, 155, 887, 933, 933, 796, 68, 332, 132, 386, 531, 67, 495, 887, 796, 495, 236, 236, 531, 289, 764, 68, 796, 332, 132, 796, 933, 386, 796, 764, 132, 949, 668, 796, 236, 495, 495, 236, 386, 236, 236, 495, 236, 98, 764, 132, 796, 68, 764, 236, 132, 236, 30, 796, 236, 764, 764, 531, 933, 68, 132, 386, 236, 764, 236, 236, 220, 68, 495, 784, 386, 495, 386, 668, 30, 680, 531, 236, 764, 332, 68, 556, 236, 386, 764, 495, 764, 764, 67, 764, 680, 236, 386, 132, 887, 236, 220, 132, 236, 764, 236, 887, 531, 132, 495, 386, 764, 668, 495, 764, 132, 887, 236, 332, 132, 236, 784, 132, 764, 531, 887, 796, 448, 132, 784, 680, 680, 386, 680, 236, 132, 386, 132, 236, 132, 289, 764, 236, 495, 933, 463, 236, 887, 784, 887, 236, 132, 796, 386, 132, 236, 236, 796, 220, 495, 132, 531, 386, 495, 531, 668, 949, 556, 796, 132, 887, 887, 887, 556, 796, 332, 463, 220, 556, 236, 132, 764, 764, 332, 796, 132, 132, 132, 556, 744, 236, 236, 236, 67, 887, 887, 887, 220, 386, 495, 933, 236, 764, 556, 30, 495, 887, 495, 132, 220, 796, 132, 887, 132, 155, 68, 220, 495, 531, 796, 764, 236, 68, 132, 220, 531, 132, 531, 236, 933, 495, 887, 132, 764, 495, 68, 289, 386, 132, 332, 132, 495, 638, 796, 236, 132, 887, 68, 386, 887, 887, 887, 236, 67, 463, 495, 220, 132, 220, 68, 796, 332, 531, 764, 386, 680, 463, 784, 887, 887, 132, 887, 887, 332, 132, 236, 463, 764, 132, 132, 132, 764, 132, 236, 132, 236, 796, 933, 132, 386, 236, 764, 796, 796, 531, 764, 132, 887, 132, 448, 463, 764, 796, 132, 764, 887, 796, 531, 796, 531, 68, 236, 887, 495, 463, 556, 132, 531, 495, 784, 132, 529, 638, 67, 887, 796, 236, 764, 796, 887, 887, 529, 764, 220, 386, 386, 759, 764, 796, 495, 386, 933, 132, 132, 236, 236, 495, 556, 386, 132, 132, 887, 386, 680, 764, 386, 556, 796, 68, 887, 764, 495, 556, 386, 463, 531, 764, 949, 796, 887, 680, 236, 463, 764, 495, 680, 784, 796, 764, 236, 529, 236, 531, 132, 132, 764, 132, 764, 132, 236, 796, 220, 132, 132, 463, 764, 386, 332, 933, 386, 764, 495, 784, 132, 887, 220, 495, 556, 236, 68, 531, 764, 448, 759, 155, 887, 67, 236, 140, 887, 933, 680, 764, 887, 67, 236, 764, 796, 132, 495, 531, 386, 132, 531, 132, 236, 531, 933, 132, 289, 784, 887, 132, 764, 332, 132, 796, 495, 386, 764, 236, 887, 220, 764, 332, 132, 887, 236, 67, 132, 531, 220, 220, 220, 796, 132, 30, 887, 764, 236, 386, 132, 132, 332, 132, 220, 796, 764, 887, 495, 887, 132, 386, 236, 289, 887, 784, 887, 132, 638, 668, 132, 386, 796, 784, 764, 132, 386, 764, 887, 236, 796, 495, 531, 220, 236, 796, 495, 764, 68, 887, 495, 495, 531, 495, 764, 386, 132, 132, 668, 796, 933, 529, 796, 495, 386, 887, 132, 556, 67, 332, 680, 744, 531, 132, 764, 132, 220, 386, 463, 495, 556, 132, 236, 531, 495, 887, 386, 531, 132, 887, 386, 68, 531, 796, 132, 68, 764, 887, 796, 236, 495, 448, 386, 764, 386, 556, 236, 531, 236, 132, 796, 796, 796, 332, 236, 236, 132, 764, 332, 132, 220, 132, 796, 887, 332, 784, 495, 796, 887, 531, 132, 796, 784, 236, 744, 887, 132, 764, 132, 236, 463, 132, 236, 236, 463, 132, 796, 764, 132, 759, 531, 132, 386, 529, 764, 531, 796, 463, 531, 949, 220, 236, 556, 463, 132, 132, 132, 495, 531, 132, 887, 386, 495, 796, 784, 386, 887, 236, 495, 332, 531, 887, 495, 132, 764, 236, 796, 132, 764, 784, 68, 132, 764, 531, 386, 132, 796, 796, 764, 764, 495, 796, 220, 764, 759, 531, 132, 236, 236, 236, 495, 529, 132, 495, 796, 887, 784, 132, 236, 680, 887, 495, 759, 887, 220, 887, 132, 495, 887, 68, 887, 784, 68, 887, 796, 386, 386, 796, 495, 236, 386, 531, 796, 764, 531, 132, 132, 236, 132, 236, 680, 132, 132, 30, 764, 68, 796, 68, 556, 556, 887, 933, 236, 132, 463, 796, 463, 236, 531, 236, 784, 463, 386, 236, 887, 949, 236, 887, 132, 220, 495, 68, 796, 764, 887, 949, 495, 463, 236, 495, 236, 463, 236, 132, 949, 495, 796, 236, 531, 495, 764, 796, 764, 132, 495, 495, 332, 887, 796, 764, 764, 132, 220, 332, 236, 236, 386, 132, 495, 796, 386, 744, 933, 933, 887, 386, 132, 236, 236, 132, 386, 68, 495, 949, 386, 495, 887, 463, 68, 949, 887, 386, 495, 744, 949, 132, 132, 495, 236, 448, 796, 132, 764, 764, 132, 495, 236, 236, 764, 236, 556, 132, 796, 796, 764, 386, 236, 887, 386, 495, 132, 332, 796, 30, 531, 796, 796, 236, 988, 949, 332, 887, 30, 556, 764, 796, 463, 887, 531, 796]\n"
     ]
    }
   ],
   "source": [
    "expanded = e.expand(c1, rgauss)"
   ]
  },
  {
   "cell_type": "code",
   "execution_count": 19,
   "metadata": {},
   "outputs": [
    {
     "data": {
      "text/plain": [
       "['0',\n",
       " '2',\n",
       " '2',\n",
       " '1',\n",
       " '0',\n",
       " '1',\n",
       " '2',\n",
       " '0',\n",
       " '2',\n",
       " '1',\n",
       " '0',\n",
       " '1',\n",
       " '0',\n",
       " '2',\n",
       " '2',\n",
       " '0',\n",
       " '1',\n",
       " '2',\n",
       " '0',\n",
       " '0',\n",
       " '0',\n",
       " '1',\n",
       " '0',\n",
       " '1',\n",
       " '1',\n",
       " '2',\n",
       " '2',\n",
       " '1',\n",
       " '1',\n",
       " '2']"
      ]
     },
     "execution_count": 19,
     "metadata": {},
     "output_type": "execute_result"
    }
   ],
   "source": [
    "list(smaller.obs['louvain'])"
   ]
  },
  {
   "cell_type": "code",
   "execution_count": 27,
   "metadata": {},
   "outputs": [
    {
     "data": {
      "text/plain": [
       "<matplotlib.collections.PathCollection at 0x11f5df790>"
      ]
     },
     "execution_count": 27,
     "metadata": {},
     "output_type": "execute_result"
    },
    {
     "data": {
      "image/png": "[encoded data removed]",
      "text/plain": [
       "<Figure size 432x288 with 1 Axes>"
      ]
     },
     "metadata": {
      "needs_background": "light"
     },
     "output_type": "display_data"
    }
   ],
   "source": [
    "plt.scatter(expanded.X[:,0], expanded.X[:,1])"
   ]
  },
  {
   "cell_type": "code",
   "execution_count": 7,
   "metadata": {},
   "outputs": [
    {
     "data": {
      "text/plain": [
       "array([0, 1])"
      ]
     },
     "execution_count": 7,
     "metadata": {},
     "output_type": "execute_result"
    }
   ],
   "source": [
    "np.where([x in [1,2] for x in [1,2,3,4,5]])[0]"
   ]
  },
  {
   "cell_type": "code",
   "execution_count": 8,
   "metadata": {},
   "outputs": [
    {
     "data": {
      "text/plain": [
       "<matplotlib.collections.PathCollection at 0x11d071cd0>"
      ]
     },
     "execution_count": 8,
     "metadata": {},
     "output_type": "execute_result"
    },
    {
     "data": {
      "image/png": "[encoded data removed]",
      "text/plain": [
       "<Figure size 432x288 with 1 Axes>"
      ]
     },
     "metadata": {
      "needs_background": "light"
     },
     "output_type": "display_data"
    }
   ],
   "source": [
    "plt.scatter(rgauss.X[:,0],rgauss.X[:,1])"
   ]
  },
  {
   "cell_type": "code",
   "execution_count": null,
   "metadata": {},
   "outputs": [],
   "source": []
  }
 ],
 "metadata": {
  "kernelspec": {
   "display_name": "Python 3",
   "language": "python",
   "name": "python3"
  },
  "language_info": {
   "codemirror_mode": {
    "name": "ipython",
    "version": 3
   },
   "file_extension": ".py",
   "mimetype": "text/x-python",
   "name": "python",
   "nbconvert_exporter": "python",
   "pygments_lexer": "ipython3",
   "version": "3.7.4"
  }
 },
 "nbformat": 4,
 "nbformat_minor": 2
}
