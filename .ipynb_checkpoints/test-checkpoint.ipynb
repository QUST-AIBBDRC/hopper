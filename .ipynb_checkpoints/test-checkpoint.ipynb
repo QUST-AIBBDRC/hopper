{
 "cells": [
  {
   "cell_type": "code",
   "execution_count": 12,
   "metadata": {},
   "outputs": [
    {
     "name": "stdout",
     "output_type": "stream",
     "text": [
      "The autoreload extension is already loaded. To reload it, use:\n",
      "  %reload_ext autoreload\n"
     ]
    }
   ],
   "source": [
    "%load_ext autoreload\n",
    "%autoreload 2"
   ]
  },
  {
   "cell_type": "code",
   "execution_count": 13,
   "metadata": {},
   "outputs": [],
   "source": [
    "from treehopper.hoppers import hopper\n",
    "import treehopper.explore as e\n",
    "import numpy as np\n",
    "import matplotlib.pyplot as plt\n",
    "import scanpy as sc"
   ]
  },
  {
   "cell_type": "code",
   "execution_count": 14,
   "metadata": {},
   "outputs": [
    {
     "name": "stdout",
     "output_type": "stream",
     "text": [
      "beginning traversal!\n",
      "2\n",
      "3\n",
      "4\n",
      "5\n",
      "6\n",
      "7\n",
      "8\n",
      "9\n",
      "10\n",
      "11\n",
      "12\n",
      "13\n",
      "14\n",
      "15\n",
      "16\n",
      "17\n",
      "18\n",
      "19\n",
      "20\n",
      "21\n",
      "22\n",
      "23\n",
      "24\n",
      "25\n",
      "26\n",
      "27\n",
      "28\n",
      "29\n",
      "30\n"
     ]
    },
    {
     "data": {
      "text/plain": [
       "[367,\n",
       " 974,\n",
       " 303,\n",
       " 876,\n",
       " 589,\n",
       " 786,\n",
       " 209,\n",
       " 80,\n",
       " 461,\n",
       " 124,\n",
       " 653,\n",
       " 86,\n",
       " 123,\n",
       " 671,\n",
       " 504,\n",
       " 890,\n",
       " 546,\n",
       " 640,\n",
       " 691,\n",
       " 923,\n",
       " 41,\n",
       " 441,\n",
       " 965,\n",
       " 654,\n",
       " 335,\n",
       " 387,\n",
       " 826,\n",
       " 894,\n",
       " 520,\n",
       " 290]"
      ]
     },
     "execution_count": 14,
     "metadata": {},
     "output_type": "execute_result"
    }
   ],
   "source": [
    "rgauss = np.random.normal(size=(1000,2))\n",
    "\n",
    "h = hopper(rgauss)\n",
    "h.hop(10)\n",
    "h.hop(20)"
   ]
  },
  {
   "cell_type": "code",
   "execution_count": null,
   "metadata": {},
   "outputs": [],
   "source": []
  }
 ],
 "metadata": {
  "kernelspec": {
   "display_name": "Python 3",
   "language": "python",
   "name": "python3"
  },
  "language_info": {
   "codemirror_mode": {
    "name": "ipython",
    "version": 3
   },
   "file_extension": ".py",
   "mimetype": "text/x-python",
   "name": "python",
   "nbconvert_exporter": "python",
   "pygments_lexer": "ipython3",
   "version": "3.7.4"
  }
 },
 "nbformat": 4,
 "nbformat_minor": 2
}
